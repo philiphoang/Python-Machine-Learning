{
 "cells": [
  {
   "cell_type": "code",
   "execution_count": 2,
   "metadata": {},
   "outputs": [
    {
     "name": "stdout",
     "output_type": "stream",
     "text": [
      "70000\n",
      "70000\n"
     ]
    }
   ],
   "source": [
    "import csv \n",
    "import numpy as np \n",
    "import pyplot as plt\n",
    "from sklearn.model_selection import train_test_split\n",
    "\n",
    "with open(\"handwritten_digits_images.csv\") as f:\n",
    "    reader = csv.reader(f)\n",
    "    x_data = np.array(list(reader))\n",
    "\n",
    "x_data = x_data.reshape(x_data.shape[0], 28, 28)\n",
    "\n",
    "# Reading the label file \n",
    "with open(\"handwritten_digits_labels.csv\") as f:\n",
    "    reader = csv.reader(f)\n",
    "    y_data = np.array(list(reader))\n",
    "\n",
    "X_train, X_test, y_train, y_test = train_test_split(x_data, y_data, test_size = 0.33, random_state = 42)\n",
    "\n",
    "fig, ax = plt.subplots(3,3)\n",
    "for i, axi in enumerate(ax.flat):\n",
    "    axi.imshow(x_data[i], cmap='bone')"
   ]
  }
 ],
 "metadata": {
  "kernelspec": {
   "display_name": "Python 3",
   "language": "python",
   "name": "python3"
  },
  "language_info": {
   "codemirror_mode": {
    "name": "ipython",
    "version": 3
   },
   "file_extension": ".py",
   "mimetype": "text/x-python",
   "name": "python",
   "nbconvert_exporter": "python",
   "pygments_lexer": "ipython3",
   "version": "3.7.1rc2"
  }
 },
 "nbformat": 4,
 "nbformat_minor": 2
}
